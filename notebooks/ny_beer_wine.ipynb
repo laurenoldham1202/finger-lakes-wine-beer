{
 "cells": [
  {
   "cell_type": "markdown",
   "metadata": {},
   "source": [
    "# Breweries and Wineries in Finger Lakes Region of New York State\n",
    "#### Authored by Lauren Oldham, September 12, 2019, New Maps Plus MAP-674"
   ]
  },
  {
   "cell_type": "markdown",
   "metadata": {},
   "source": [
    "## Table of Contents\n",
    "1. [Introduction](#introduction)\n",
    "    1. [About the Data](#about)\n",
    "        1. [New York Breweries and Wineries](#ny-beer-wine)\n",
    "        2. [Shapefiles](#shapefiles)\n",
    "2. [Import Data](#import-data)\n",
    "3. [Prepare for GeoPandas Geoprocessing](#geopandas-prep)\n",
    "    1. [Drop Null Latitude and Longitudes](#drop-null)\n",
    "    2. [Convert DataFrame to GeoDataFrame](#convert-gdf)\n",
    "    3. [Subset New York States and Counties](#subset)\n",
    "    4. [Check Data](#check-1)\n",
    "4. [Geoprocess with GeoPandas](#geoprocessing)\n",
    "    1. [Clip Dataset](#clip)\n",
    "        1. [Unary Union](#union)\n",
    "    2. [Reproject Data](#reproject)\n",
    "    3. [Check Data](#check-2)\n",
    "    4. [Additional Subsetting and Splitting of Data](#additional-subset)\n",
    "    5. [Apply Buffer to Wineries Dataset](#buffer)\n",
    "    6. [Intersect Half-Mile Buffer Against Dataset](#intersect-1)\n",
    "        1. [Breweries](#breweries)\n",
    "        2. [Check Data](#check-3)\n",
    "        3. [Wineries](#wineries)\n",
    "5. [Final Plot and Analysis](#final-plot)\n",
    "6. [Export Results](#export)\n",
    "    1. [Export Dataset](#export-dataset)\n",
    "    2. [Export Counties to JSON](#export-counties)"
   ]
  },
  {
   "cell_type": "markdown",
   "metadata": {},
   "source": [
    "## Introduction<a name=\"introduction\"></a>\n",
    "If you're talking about the Finger Lakes, chances are that you're also talking about wine. Home to one of the most famous wine-producing regions in the world, upstate New York is a popular tourist destination, and a favorite activity is imbibing. From fall foliage excursions to bachelorette parties, many tour groups hop from establishment to establishment to taste all of what the region has to offer. Many wineries are closely clustered, inviting other restarants, distilleries, and breweries to build nearby. So why limit yourself to wine when so many establishments are within walking distance? Our goal today is to find the wineries and breweries that are within a half mile of one another to allow tourists and residents to walk from establishment to establishment without relying on transportation.\n",
    "\n",
    "### About the Data<a name=\"about\"></a>\n",
    "#### New York Breweries and Wineries<a name=\"ny-beer-wine\"></a>\n",
    "Wineries, Breweries, and Distilleries data provided by https://data.ny.gov/.\n",
    "\n",
    "Based on Liquor Authority Quarterly List of Active Licenses\n",
    "\n",
    "Liquor Authority quarterly list of all active licensees in NYS filtered by Winery and Brewery specific License Types.\n",
    "\n",
    "https://data.ny.gov/Economic-Development/Wineries-Breweries-and-Distilleries-Map/c2hv-vmqn\n",
    "\n",
    "#### Shapefiles<a name=\"shapefiles\"></a>\n",
    "United States state and county shapefiles provided by GADM.\n",
    "\n",
    "https://gadm.org/download_country_v3.html"
   ]
  },
  {
   "cell_type": "markdown",
   "metadata": {},
   "source": [
    "## Import Data<a name=\"import-data\"></a>"
   ]
  },
  {
   "cell_type": "code",
   "execution_count": 1,
   "metadata": {},
   "outputs": [],
   "source": [
    "# import required data packages\n",
    "import pandas as pd\n",
    "import geopandas as gpd\n",
    "import numpy as np\n",
    "import matplotlib.pyplot as plt\n",
    "from shapely.geometry import Point\n",
    "\n",
    "# set pyplot figure size for entire project\n",
    "plt.rcParams['figure.figsize'] = (15, 15)"
   ]
  },
  {
   "cell_type": "code",
   "execution_count": 2,
   "metadata": {},
   "outputs": [],
   "source": [
    "# import usa state and county shapefiles\n",
    "# data/shapefiles.zip must be unzipped to access these files\n",
    "us_states = gpd.read_file('./data/shapefiles/gadm36_USA_1.shp')\n",
    "us_counties = gpd.read_file('./data/shapefiles/gadm36_USA_2.shp')"
   ]
  },
  {
   "cell_type": "code",
   "execution_count": 3,
   "metadata": {},
   "outputs": [],
   "source": [
    "# import cleaned New York state breweries and wineries dataset\n",
    "ny_beer_wine_df = pd.read_csv('./data/ny_beer_wine.csv')"
   ]
  },
  {
   "cell_type": "markdown",
   "metadata": {},
   "source": [
    "## Prepare for GeoPandas Geoprocessing<a name=\"geopandas-prep\"></a>\n",
    "\n",
    "While the New York breweries, wineries, and distilleries dataset was cleaned prior to this project, \n",
    "datasets often present problems as you are actively working with them. We need to further manipulate both our dataframe and shapefiles before plotting and geoprocessing our data.\n",
    "\n",
    "### Drop Null Latitude and Longitudes<a name=\"drop-null\"></a>\n",
    "In this case, missing latitude and longitude values created null GeoDataFrame geometries, preventing proper geoprocessing methods. Dropping rows with NA coordinates fixes this issue."
   ]
  },
  {
   "cell_type": "code",
   "execution_count": 4,
   "metadata": {},
   "outputs": [],
   "source": [
    "# drop any rows with NA/null values from dataframe\n",
    "ny_beer_wine_df = ny_beer_wine_df.dropna()"
   ]
  },
  {
   "cell_type": "markdown",
   "metadata": {},
   "source": [
    "### Convert DataFrame to GeoDataFrame<a name=\"convert-gdf\"></a>\n",
    "\n",
    "As great of a data manipulation package as Pandas is, a GeoDataFrame is required to work with GeoPandas! Therefore, we must convert our DataFrame to a GeoDataFrame before plotting and geoprocessing our dataset."
   ]
  },
  {
   "cell_type": "code",
   "execution_count": 5,
   "metadata": {},
   "outputs": [],
   "source": [
    "# create Point geometry from dataframe's longitude and latitude columns\n",
    "geom = [Point(xy) for xy in zip(ny_beer_wine_df.lng, ny_beer_wine_df.lat)]\n",
    "\n",
    "# create new GeoDataFrame to access and apply geoprocessing methods\n",
    "ny_beer_wine = gpd.GeoDataFrame(\n",
    "    ny_beer_wine_df,  # original dataframe\n",
    "    crs = {'init': 'epsg:4326'},  # WGS84 web mercator CRS\n",
    "    geometry = geom\n",
    ")"
   ]
  },
  {
   "cell_type": "markdown",
   "metadata": {},
   "source": [
    "### Subset New York States and Finger Lakes Counties<a name=\"subset\"></a>\n",
    "\n",
    "While GADM provides excellent shapefiles of entire countries, we are only interested in New York state and counties for this map. Using basic subsetting, we are able to filter both shapefiles for the desired state. We also want to look at the Finger Lakes Region of upstate New York specifically, so we will subset for those counties as well."
   ]
  },
  {
   "cell_type": "code",
   "execution_count": 6,
   "metadata": {},
   "outputs": [],
   "source": [
    "# subset state and county shapefiles for New York only\n",
    "ny_state = us_states[us_states['NAME_1'] == 'New York']\n",
    "ny_counties = us_counties[us_counties['NAME_1'] == 'New York']"
   ]
  },
  {
   "cell_type": "code",
   "execution_count": 7,
   "metadata": {},
   "outputs": [],
   "source": [
    "# create subset of just finger lakes counties\n",
    "finger_lakes_counties = ny_counties.query(\n",
    "    \"NAME_2 == ['Cayuga', 'Chemung', 'Cortland', 'Livingston', 'Monroe', 'Onondoga', 'Ontario', 'Schuyler', 'Seneca', 'Steuben', 'Tioga', 'Tompkins', 'Wayne', 'Yates']\")"
   ]
  },
  {
   "cell_type": "markdown",
   "metadata": {},
   "source": [
    "### Check Data<a name=\"check-1\"></a>\n",
    "\n",
    "Let's take a quick look at our data to make sure it's what we expect!"
   ]
  },
  {
   "cell_type": "code",
   "execution_count": 8,
   "metadata": {},
   "outputs": [
    {
     "data": {
      "text/html": [
       "<div>\n",
       "<style scoped>\n",
       "    .dataframe tbody tr th:only-of-type {\n",
       "        vertical-align: middle;\n",
       "    }\n",
       "\n",
       "    .dataframe tbody tr th {\n",
       "        vertical-align: top;\n",
       "    }\n",
       "\n",
       "    .dataframe thead th {\n",
       "        text-align: right;\n",
       "    }\n",
       "</style>\n",
       "<table border=\"1\" class=\"dataframe\">\n",
       "  <thead>\n",
       "    <tr style=\"text-align: right;\">\n",
       "      <th></th>\n",
       "      <th>GID_0</th>\n",
       "      <th>NAME_0</th>\n",
       "      <th>GID_1</th>\n",
       "      <th>NAME_1</th>\n",
       "      <th>NL_NAME_1</th>\n",
       "      <th>GID_2</th>\n",
       "      <th>NAME_2</th>\n",
       "      <th>VARNAME_2</th>\n",
       "      <th>NL_NAME_2</th>\n",
       "      <th>TYPE_2</th>\n",
       "      <th>ENGTYPE_2</th>\n",
       "      <th>CC_2</th>\n",
       "      <th>HASC_2</th>\n",
       "      <th>geometry</th>\n",
       "    </tr>\n",
       "  </thead>\n",
       "  <tbody>\n",
       "    <tr>\n",
       "      <td>1835</td>\n",
       "      <td>USA</td>\n",
       "      <td>United States</td>\n",
       "      <td>USA.33_1</td>\n",
       "      <td>New York</td>\n",
       "      <td>None</td>\n",
       "      <td>USA.33.6_1</td>\n",
       "      <td>Cayuga</td>\n",
       "      <td>None</td>\n",
       "      <td>None</td>\n",
       "      <td>County</td>\n",
       "      <td>County</td>\n",
       "      <td>None</td>\n",
       "      <td>US.NY.CY</td>\n",
       "      <td>POLYGON ((-76.66667938232422 42.62417221069342...</td>\n",
       "    </tr>\n",
       "    <tr>\n",
       "      <td>1837</td>\n",
       "      <td>USA</td>\n",
       "      <td>United States</td>\n",
       "      <td>USA.33_1</td>\n",
       "      <td>New York</td>\n",
       "      <td>None</td>\n",
       "      <td>USA.33.8_1</td>\n",
       "      <td>Chemung</td>\n",
       "      <td>None</td>\n",
       "      <td>None</td>\n",
       "      <td>County</td>\n",
       "      <td>County</td>\n",
       "      <td>None</td>\n",
       "      <td>US.NY.CM</td>\n",
       "      <td>POLYGON ((-76.96510314941406 42.00231170654303...</td>\n",
       "    </tr>\n",
       "    <tr>\n",
       "      <td>1841</td>\n",
       "      <td>USA</td>\n",
       "      <td>United States</td>\n",
       "      <td>USA.33_1</td>\n",
       "      <td>New York</td>\n",
       "      <td>None</td>\n",
       "      <td>USA.33.12_1</td>\n",
       "      <td>Cortland</td>\n",
       "      <td>None</td>\n",
       "      <td>None</td>\n",
       "      <td>County</td>\n",
       "      <td>County</td>\n",
       "      <td>None</td>\n",
       "      <td>US.NY.CD</td>\n",
       "      <td>POLYGON ((-76.12576293945312 42.41067123413086...</td>\n",
       "    </tr>\n",
       "    <tr>\n",
       "      <td>1856</td>\n",
       "      <td>USA</td>\n",
       "      <td>United States</td>\n",
       "      <td>USA.33_1</td>\n",
       "      <td>New York</td>\n",
       "      <td>None</td>\n",
       "      <td>USA.33.27_1</td>\n",
       "      <td>Livingston</td>\n",
       "      <td>None</td>\n",
       "      <td>None</td>\n",
       "      <td>County</td>\n",
       "      <td>County</td>\n",
       "      <td>None</td>\n",
       "      <td>US.NY.LI</td>\n",
       "      <td>POLYGON ((-78.0389404296875 42.52143859863287,...</td>\n",
       "    </tr>\n",
       "    <tr>\n",
       "      <td>1858</td>\n",
       "      <td>USA</td>\n",
       "      <td>United States</td>\n",
       "      <td>USA.33_1</td>\n",
       "      <td>New York</td>\n",
       "      <td>None</td>\n",
       "      <td>USA.33.29_1</td>\n",
       "      <td>Monroe</td>\n",
       "      <td>None</td>\n",
       "      <td>None</td>\n",
       "      <td>County</td>\n",
       "      <td>County</td>\n",
       "      <td>None</td>\n",
       "      <td>US.NY.MR</td>\n",
       "      <td>POLYGON ((-77.99806976318354 43.13211059570312...</td>\n",
       "    </tr>\n",
       "    <tr>\n",
       "      <td>1865</td>\n",
       "      <td>USA</td>\n",
       "      <td>United States</td>\n",
       "      <td>USA.33_1</td>\n",
       "      <td>New York</td>\n",
       "      <td>None</td>\n",
       "      <td>USA.33.36_1</td>\n",
       "      <td>Ontario</td>\n",
       "      <td>None</td>\n",
       "      <td>None</td>\n",
       "      <td>County</td>\n",
       "      <td>County</td>\n",
       "      <td>None</td>\n",
       "      <td>US.NY.OR</td>\n",
       "      <td>POLYGON ((-77.58051300048828 42.94380187988293...</td>\n",
       "    </tr>\n",
       "    <tr>\n",
       "      <td>1879</td>\n",
       "      <td>USA</td>\n",
       "      <td>United States</td>\n",
       "      <td>USA.33_1</td>\n",
       "      <td>New York</td>\n",
       "      <td>None</td>\n",
       "      <td>USA.33.50_1</td>\n",
       "      <td>Schuyler</td>\n",
       "      <td>None</td>\n",
       "      <td>None</td>\n",
       "      <td>County</td>\n",
       "      <td>County</td>\n",
       "      <td>None</td>\n",
       "      <td>US.NY.SU</td>\n",
       "      <td>POLYGON ((-76.96537017822266 42.28031158447266...</td>\n",
       "    </tr>\n",
       "    <tr>\n",
       "      <td>1880</td>\n",
       "      <td>USA</td>\n",
       "      <td>United States</td>\n",
       "      <td>USA.33_1</td>\n",
       "      <td>New York</td>\n",
       "      <td>None</td>\n",
       "      <td>USA.33.51_1</td>\n",
       "      <td>Seneca</td>\n",
       "      <td>None</td>\n",
       "      <td>None</td>\n",
       "      <td>County</td>\n",
       "      <td>County</td>\n",
       "      <td>None</td>\n",
       "      <td>US.NY.SC</td>\n",
       "      <td>POLYGON ((-76.66667938232422 42.62417221069342...</td>\n",
       "    </tr>\n",
       "    <tr>\n",
       "      <td>1881</td>\n",
       "      <td>USA</td>\n",
       "      <td>United States</td>\n",
       "      <td>USA.33_1</td>\n",
       "      <td>New York</td>\n",
       "      <td>None</td>\n",
       "      <td>USA.33.52_1</td>\n",
       "      <td>Steuben</td>\n",
       "      <td>None</td>\n",
       "      <td>None</td>\n",
       "      <td>County</td>\n",
       "      <td>County</td>\n",
       "      <td>None</td>\n",
       "      <td>US.NY.ST</td>\n",
       "      <td>POLYGON ((-76.96510314941406 42.00231170654303...</td>\n",
       "    </tr>\n",
       "    <tr>\n",
       "      <td>1884</td>\n",
       "      <td>USA</td>\n",
       "      <td>United States</td>\n",
       "      <td>USA.33_1</td>\n",
       "      <td>New York</td>\n",
       "      <td>None</td>\n",
       "      <td>USA.33.55_1</td>\n",
       "      <td>Tioga</td>\n",
       "      <td>None</td>\n",
       "      <td>None</td>\n",
       "      <td>County</td>\n",
       "      <td>County</td>\n",
       "      <td>None</td>\n",
       "      <td>US.NY.TI</td>\n",
       "      <td>POLYGON ((-76.10603332519531 41.99906158447271...</td>\n",
       "    </tr>\n",
       "    <tr>\n",
       "      <td>1885</td>\n",
       "      <td>USA</td>\n",
       "      <td>United States</td>\n",
       "      <td>USA.33_1</td>\n",
       "      <td>New York</td>\n",
       "      <td>None</td>\n",
       "      <td>USA.33.56_1</td>\n",
       "      <td>Tompkins</td>\n",
       "      <td>None</td>\n",
       "      <td>None</td>\n",
       "      <td>County</td>\n",
       "      <td>County</td>\n",
       "      <td>None</td>\n",
       "      <td>US.NY.TO</td>\n",
       "      <td>POLYGON ((-76.69586944580078 42.54663848876959...</td>\n",
       "    </tr>\n",
       "    <tr>\n",
       "      <td>1889</td>\n",
       "      <td>USA</td>\n",
       "      <td>United States</td>\n",
       "      <td>USA.33_1</td>\n",
       "      <td>New York</td>\n",
       "      <td>None</td>\n",
       "      <td>USA.33.60_1</td>\n",
       "      <td>Wayne</td>\n",
       "      <td>None</td>\n",
       "      <td>None</td>\n",
       "      <td>County</td>\n",
       "      <td>County</td>\n",
       "      <td>None</td>\n",
       "      <td>US.NY.WN</td>\n",
       "      <td>POLYGON ((-76.96338653564453 43.01219177246094...</td>\n",
       "    </tr>\n",
       "    <tr>\n",
       "      <td>1892</td>\n",
       "      <td>USA</td>\n",
       "      <td>United States</td>\n",
       "      <td>USA.33_1</td>\n",
       "      <td>New York</td>\n",
       "      <td>None</td>\n",
       "      <td>USA.33.63_1</td>\n",
       "      <td>Yates</td>\n",
       "      <td>None</td>\n",
       "      <td>None</td>\n",
       "      <td>County</td>\n",
       "      <td>County</td>\n",
       "      <td>None</td>\n",
       "      <td>US.NY.YA</td>\n",
       "      <td>POLYGON ((-77.36643981933588 42.5760116577149,...</td>\n",
       "    </tr>\n",
       "  </tbody>\n",
       "</table>\n",
       "</div>"
      ],
      "text/plain": [
       "     GID_0         NAME_0     GID_1    NAME_1 NL_NAME_1        GID_2  \\\n",
       "1835   USA  United States  USA.33_1  New York      None   USA.33.6_1   \n",
       "1837   USA  United States  USA.33_1  New York      None   USA.33.8_1   \n",
       "1841   USA  United States  USA.33_1  New York      None  USA.33.12_1   \n",
       "1856   USA  United States  USA.33_1  New York      None  USA.33.27_1   \n",
       "1858   USA  United States  USA.33_1  New York      None  USA.33.29_1   \n",
       "1865   USA  United States  USA.33_1  New York      None  USA.33.36_1   \n",
       "1879   USA  United States  USA.33_1  New York      None  USA.33.50_1   \n",
       "1880   USA  United States  USA.33_1  New York      None  USA.33.51_1   \n",
       "1881   USA  United States  USA.33_1  New York      None  USA.33.52_1   \n",
       "1884   USA  United States  USA.33_1  New York      None  USA.33.55_1   \n",
       "1885   USA  United States  USA.33_1  New York      None  USA.33.56_1   \n",
       "1889   USA  United States  USA.33_1  New York      None  USA.33.60_1   \n",
       "1892   USA  United States  USA.33_1  New York      None  USA.33.63_1   \n",
       "\n",
       "          NAME_2 VARNAME_2 NL_NAME_2  TYPE_2 ENGTYPE_2  CC_2    HASC_2  \\\n",
       "1835      Cayuga      None      None  County    County  None  US.NY.CY   \n",
       "1837     Chemung      None      None  County    County  None  US.NY.CM   \n",
       "1841    Cortland      None      None  County    County  None  US.NY.CD   \n",
       "1856  Livingston      None      None  County    County  None  US.NY.LI   \n",
       "1858      Monroe      None      None  County    County  None  US.NY.MR   \n",
       "1865     Ontario      None      None  County    County  None  US.NY.OR   \n",
       "1879    Schuyler      None      None  County    County  None  US.NY.SU   \n",
       "1880      Seneca      None      None  County    County  None  US.NY.SC   \n",
       "1881     Steuben      None      None  County    County  None  US.NY.ST   \n",
       "1884       Tioga      None      None  County    County  None  US.NY.TI   \n",
       "1885    Tompkins      None      None  County    County  None  US.NY.TO   \n",
       "1889       Wayne      None      None  County    County  None  US.NY.WN   \n",
       "1892       Yates      None      None  County    County  None  US.NY.YA   \n",
       "\n",
       "                                               geometry  \n",
       "1835  POLYGON ((-76.66667938232422 42.62417221069342...  \n",
       "1837  POLYGON ((-76.96510314941406 42.00231170654303...  \n",
       "1841  POLYGON ((-76.12576293945312 42.41067123413086...  \n",
       "1856  POLYGON ((-78.0389404296875 42.52143859863287,...  \n",
       "1858  POLYGON ((-77.99806976318354 43.13211059570312...  \n",
       "1865  POLYGON ((-77.58051300048828 42.94380187988293...  \n",
       "1879  POLYGON ((-76.96537017822266 42.28031158447266...  \n",
       "1880  POLYGON ((-76.66667938232422 42.62417221069342...  \n",
       "1881  POLYGON ((-76.96510314941406 42.00231170654303...  \n",
       "1884  POLYGON ((-76.10603332519531 41.99906158447271...  \n",
       "1885  POLYGON ((-76.69586944580078 42.54663848876959...  \n",
       "1889  POLYGON ((-76.96338653564453 43.01219177246094...  \n",
       "1892  POLYGON ((-77.36643981933588 42.5760116577149,...  "
      ]
     },
     "execution_count": 8,
     "metadata": {},
     "output_type": "execute_result"
    }
   ],
   "source": [
    "# quick view of dataset - everything looks how we expect!\n",
    "finger_lakes_counties.head(14)"
   ]
  },
  {
   "cell_type": "code",
   "execution_count": 9,
   "metadata": {},
   "outputs": [
    {
     "data": {
      "text/plain": [
       "[(40, 45.5),\n",
       " (-80, -71.5),\n",
       " Text(0.5, 1, 'Basic Plot of NY Breweries and Wineries')]"
      ]
     },
     "execution_count": 9,
     "metadata": {},
     "output_type": "execute_result"
    },
    {
     "data": {
      "image/png": "[encoded data removed]",
      "text/plain": [
       "<Figure size 432x288 with 1 Axes>"
      ]
     },
     "metadata": {
      "needs_background": "light"
     },
     "output_type": "display_data"
    }
   ],
   "source": [
    "# plot basic outputs with pyplot - we see NY state, counties, and markers (breweries and wineries)\n",
    "fig, ax = plt.subplots()\n",
    "\n",
    "# style each layer\n",
    "ny_state.plot(ax=ax, edgecolor='#404040', linewidth=3, zorder=0);\n",
    "ny_counties.plot(ax=ax, color='#f0f0f0', edgecolor='white', zorder=1);\n",
    "finger_lakes_counties.plot(ax=ax, color='teal', alpha=0.25, edgecolor='white', zorder=2)\n",
    "ny_beer_wine.plot(ax=ax, color='#DE5C1F', markersize=0.4, zorder=3);\n",
    "\n",
    "# set view \n",
    "ax.set(title='Basic Plot of NY Breweries and Wineries', xlim=(-80,-71.5), ylim=(40,45.5))"
   ]
  },
  {
   "cell_type": "markdown",
   "metadata": {},
   "source": [
    "## Geoprocess Data with GeoPandas<a name=\"geoprocessing\">\n",
    "    \n",
    "### Clip Dataset<a name=\"clip\">\n",
    "\n",
    "We want to look at breweries and wineries exclusively in the Finger Lakes region. While our dataset contains county data that could be queried and filtered, we will instead clip the point data to our Finger Lakes counties shapefile. We use the `intersects` method.\n",
    "\n",
    "#### Unary Union<a name=\"union\">\n",
    "\n",
    "Multipolygons tend to cause problems for geoprocessing data. To ensure that our polygons work with GeoPandas methods, we use Shapely's `unary_union` to dissolve into a single polygon."
   ]
  },
  {
   "cell_type": "code",
   "execution_count": 10,
   "metadata": {},
   "outputs": [],
   "source": [
    "# unary union to dissolve into single geometry\n",
    "finger_lakes_counties_poly = finger_lakes_counties.unary_union\n",
    "\n",
    "# intersect points against polygons\n",
    "fl_beer_wine = ny_beer_wine[ny_beer_wine.geometry.intersects(finger_lakes_counties_poly)]"
   ]
  },
  {
   "cell_type": "markdown",
   "metadata": {},
   "source": [
    "### Reproject Data<a name=\"reproject\">\n",
    "\n",
    "Because we want to create buffers with set distances, we will reproject our data to an equidistant conic projection."
   ]
  },
  {
   "cell_type": "code",
   "execution_count": 11,
   "metadata": {},
   "outputs": [],
   "source": [
    "ny_state_prj = ny_state.to_crs('+proj=eqdc +lat_0=39 +lon_0=-96 +lat_1=33 +lat_2=45 +x_0=0 +y_0=0 +datum=NAD83 +units=m +no_defs')\n",
    "ny_counties_prj = ny_counties.to_crs('+proj=eqdc +lat_0=39 +lon_0=-96 +lat_1=33 +lat_2=45 +x_0=0 +y_0=0 +datum=NAD83 +units=m +no_defs')\n",
    "fl_beer_wine_prj = fl_beer_wine.to_crs('+proj=eqdc +lat_0=39 +lon_0=-96 +lat_1=33 +lat_2=45 +x_0=0 +y_0=0 +datum=NAD83 +units=m +no_defs')\n",
    "fl_counties_prj = finger_lakes_counties.to_crs('+proj=eqdc +lat_0=39 +lon_0=-96 +lat_1=33 +lat_2=45 +x_0=0 +y_0=0 +datum=NAD83 +units=m +no_defs')"
   ]
  },
  {
   "cell_type": "markdown",
   "metadata": {},
   "source": [
    "### Check Data<a name=\"check-2\">"
   ]
  },
  {
   "cell_type": "code",
   "execution_count": 12,
   "metadata": {},
   "outputs": [
    {
     "data": {
      "image/png": "[encoded data removed]",
      "text/plain": [
       "<Figure size 432x288 with 1 Axes>"
      ]
     },
     "metadata": {
      "needs_background": "light"
     },
     "output_type": "display_data"
    }
   ],
   "source": [
    "# plot to check proper projection\n",
    "fig, ax = plt.subplots()\n",
    "\n",
    "ny_state_prj.plot(ax=ax, edgecolor='#404040', linewidth=3, zorder=0);\n",
    "ny_counties_prj.plot(ax=ax, color='#f0f0f0', edgecolor='white', zorder=1);\n",
    "fl_counties_prj.plot(ax=ax, color='teal', alpha=0.25, edgecolor='white', linewidth=3, zorder=2)\n",
    "fl_beer_wine_prj.plot(ax=ax, color='#DE5C1F', markersize=7, zorder=3);\n",
    "\n",
    "ax.set(title='Equidistant Conic Projection Check', xlim=(1420000,1650000), ylim=(480000,660000));"
   ]
  },
  {
   "cell_type": "markdown",
   "metadata": {},
   "source": [
    "### Additional Subsetting and Splitting of Data<a name=\"additional-subset\">\n",
    "\n",
    "We want to look at breweries versus wineries, so we will split our Finger Lakes data into two separate dataframes. We must first find all unique values for establishment types, format them properly, then subset and split the datasets."
   ]
  },
  {
   "cell_type": "code",
   "execution_count": 13,
   "metadata": {},
   "outputs": [
    {
     "name": "stdout",
     "output_type": "stream",
     "text": [
      "['Brewer' 'Distiller \"A-1\"' 'Distiller \"B\"' 'Distiller \"B-1\"'\n",
      " 'Distiller \"C\"' 'Farm Brewer' 'Farm Distiller \"D\"' 'Farm Winery'\n",
      " 'Micro Brewer' 'Restaurant Brewer' 'Winery' 'Winery / Farm Winery Retail']\n"
     ]
    }
   ],
   "source": [
    "# find all unique values for establishment type\n",
    "print(fl_beer_wine_prj['type'].unique())\n",
    "\n",
    "# remove quotations from types for easier subsetting\n",
    "fl_beer_wine_prj['type'] = fl_beer_wine_prj['type'].str.replace('\"', '')"
   ]
  },
  {
   "cell_type": "code",
   "execution_count": 14,
   "metadata": {},
   "outputs": [],
   "source": [
    "# separate geodataframes for breweries and wineries\n",
    "fl_beer = fl_beer_wine_prj.query(\"type == ['Brewer', 'Distiller A-1', 'Distiller B', 'Distiller B-1', 'Distiller C', 'Farm Brewer', 'Farm Distiller D', 'Micro Brewer', 'Restaurant Brewer']\")\n",
    "fl_wine = fl_beer_wine_prj.query(\"type == ['Winery', 'Winery / Farm Winery Retail', 'Farm Winery']\")\n",
    "\n",
    "# create generic type fields for easier web map subsetting\n",
    "fl_beer = fl_beer.copy()\n",
    "fl_beer['type_generic'] = 'other'\n",
    "fl_wine = fl_wine.copy()\n",
    "fl_wine['type_generic'] = 'winery'"
   ]
  },
  {
   "cell_type": "markdown",
   "metadata": {},
   "source": [
    "### Apply Buffer to Wineries Dataset<a name=\"buffer\">\n",
    "    \n",
    "We want to check how many breweries are within a half mile of a winery in the Finger Lakes. We must first apply a buffer around our winery points with a distance of 804.672 meters, the equivalent of 0.5 miles. We will then reset the geometry column of the GeoDataFrame to the newly-created buffer column to later perform an intersection with that geometry."
   ]
  },
  {
   "cell_type": "code",
   "execution_count": 15,
   "metadata": {},
   "outputs": [],
   "source": [
    "# apply half mile buffer in meters, create copy to avoid chained indexing from sliced dataset\n",
    "fl_wine = fl_wine.copy()\n",
    "fl_wine['buffer'] = fl_wine.buffer(804.672)\n",
    "\n",
    "\n",
    "# reassign main geometry column to buffer\n",
    "fl_wine = fl_wine.set_geometry('buffer')"
   ]
  },
  {
   "cell_type": "markdown",
   "metadata": {},
   "source": [
    "### Intersect Half-Mile Buffer Against Dataset<a name=\"intersect-1\">\n",
    "    \n",
    "#### Breweries<a name=\"breweries\">\n",
    "\n",
    "With the buffer applied around each winery, we are able to use an intersection to clip only the breweries that exist within that buffer zone."
   ]
  },
  {
   "cell_type": "code",
   "execution_count": 16,
   "metadata": {},
   "outputs": [],
   "source": [
    "# unary union to dissolve multipolygons for geoprocessing\n",
    "fl_wine_poly = fl_wine.unary_union\n",
    "\n",
    "# intersection of breweries within a half mile of a winery\n",
    "fl_beer_int = fl_beer[fl_beer.geometry.intersects(fl_wine_poly)]"
   ]
  },
  {
   "cell_type": "markdown",
   "metadata": {},
   "source": [
    "#### Check Data<a name=\"check-3\">\n",
    "\n",
    "Let's take a quick look to make sure that our buffer and intersection was successful."
   ]
  },
  {
   "cell_type": "code",
   "execution_count": 17,
   "metadata": {},
   "outputs": [
    {
     "data": {
      "image/png": "[encoded data removed]",
      "text/plain": [
       "<Figure size 432x288 with 1 Axes>"
      ]
     },
     "metadata": {
      "needs_background": "light"
     },
     "output_type": "display_data"
    }
   ],
   "source": [
    "# check buffer and intersction\n",
    "fig, ax = plt.subplots()\n",
    "\n",
    "fl_counties_prj.plot(ax=ax, color='teal', edgecolor='white', linewidth=3, zorder=0);\n",
    "fl_wine.plot(ax=ax, color='yellow',  alpha=0.5, zorder=1);\n",
    "fl_beer_int.plot(ax=ax, color='red', markersize=20, zorder=3);\n",
    "\n",
    "# zoom in for closer view of buffer zone\n",
    "ax.set(title='Breweries within Half Mile of a Winery (Zoomed In)', xlim=(1530000,1560000), ylim=(535000,565000));"
   ]
  },
  {
   "cell_type": "markdown",
   "metadata": {},
   "source": [
    "#### Wineries<a name=\"wineries\">\n",
    "\n",
    "Looks good! However, we don't want to see ALL wineries in our original dataset - we only want to look at the wineries that are within a half-mile of a brewery. To filter our winery dataset, we against use an intersection to subset the wineries that intersect breweries. In short, we are removing all yellow circles (plotted above) that do NOT have a red circle on them."
   ]
  },
  {
   "cell_type": "code",
   "execution_count": 18,
   "metadata": {},
   "outputs": [],
   "source": [
    "# unary union to dissolve multipolygons for geoprocessing\n",
    "fl_beer_poly = fl_beer_int.unary_union\n",
    "\n",
    "# wineries (buffer included) within half mile of brewery\n",
    "fl_wine_int = fl_wine[fl_wine.geometry.intersects(fl_beer_poly)]\n",
    "\n",
    "# reset geometry to point (instead of buffer) for plotting\n",
    "fl_wine_int = fl_wine_int.set_geometry('geometry')"
   ]
  },
  {
   "cell_type": "markdown",
   "metadata": {},
   "source": [
    "## Final Plot and Analysis<a name=\"final-plot\">\n",
    "\n",
    "Through GeoPandas geoprocessing methods, we were able to determine which and how many breweries exist within a half mile radius of winery in the Finger Lakes region of upstate New York. We can alter or extend this analysis in a number of ways - we could extend or reduce the buffer area, change the area of interest (all counties in New York, or a different region), or further filter our dataset with more refinement.\n",
    "\n",
    "Through some basic calcuations (below), we determine that roughly 23% of wineries in the region are within a half mile of a brewery. Slightly more breweries in the region (~31%) are within a half mile of a winery. So if you want to seamlessly walk between establishments, it's easy to do so in approximately a quarter of establishments in the region! Drink responsibly!\n",
    "\n",
    "While our final map is a fine overview, we'd ideally like to plot this in a dynamic, interactive web map to allow pop-up information, panning, zooming, etc."
   ]
  },
  {
   "cell_type": "code",
   "execution_count": 19,
   "metadata": {},
   "outputs": [
    {
     "name": "stdout",
     "output_type": "stream",
     "text": [
      "23.12% of wineries in the Finger Lakes region of upstate New York are within a half mile of a brewery.\n",
      "30.82% of breweries in the Finger Lakes region of upstate New York are within a half mile of a winery.\n"
     ]
    }
   ],
   "source": [
    "wine_pct = round(len(fl_wine_int) / len(fl_wine) * 100, 2)\n",
    "beer_pct = round(len(fl_beer_int) / len(fl_beer) * 100, 2)\n",
    "\n",
    "print(f'{wine_pct}% of wineries in the Finger Lakes region of upstate New York are within a half mile of a brewery.')\n",
    "print(f'{beer_pct}% of breweries in the Finger Lakes region of upstate New York are within a half mile of a winery.')"
   ]
  },
  {
   "cell_type": "code",
   "execution_count": 20,
   "metadata": {},
   "outputs": [
    {
     "data": {
      "image/png": "[encoded data removed]",
      "text/plain": [
       "<Figure size 432x288 with 1 Axes>"
      ]
     },
     "metadata": {
      "needs_background": "light"
     },
     "output_type": "display_data"
    }
   ],
   "source": [
    "# final plot\n",
    "fig, ax = plt.subplots()\n",
    "\n",
    "fl_counties_prj.plot(ax=ax, color='#414140', edgecolor='white', zorder=0);\n",
    "fl_wine_int.plot(ax=ax, color='#FF1FB8', alpha=0.8, markersize=70, zorder=1);\n",
    "fl_beer_int.plot(ax=ax, color='#C6FF00', alpha=0.5, markersize=70, zorder=2);\n",
    "\n",
    "ax.set(\n",
    "    title='Who Wants a Drink? Breweries and Wineries within a Half Mile of Each Other in Finger Lakes Region, New York',\n",
    "    xlim=(1470000,1595000),\n",
    "    ylim=(515000,625000)\n",
    ");"
   ]
  },
  {
   "cell_type": "markdown",
   "metadata": {},
   "source": [
    "## Export Results <a name=\"export\">\n",
    "    \n",
    "### Export Dataset to CSV and JSON<a name=\"export-dataset\">"
   ]
  },
  {
   "cell_type": "code",
   "execution_count": 21,
   "metadata": {},
   "outputs": [
    {
     "data": {
      "text/html": [
       "<div>\n",
       "<style scoped>\n",
       "    .dataframe tbody tr th:only-of-type {\n",
       "        vertical-align: middle;\n",
       "    }\n",
       "\n",
       "    .dataframe tbody tr th {\n",
       "        vertical-align: top;\n",
       "    }\n",
       "\n",
       "    .dataframe thead th {\n",
       "        text-align: right;\n",
       "    }\n",
       "</style>\n",
       "<table border=\"1\" class=\"dataframe\">\n",
       "  <thead>\n",
       "    <tr style=\"text-align: right;\">\n",
       "      <th></th>\n",
       "      <th>type</th>\n",
       "      <th>county</th>\n",
       "      <th>official_business_name</th>\n",
       "      <th>name</th>\n",
       "      <th>address</th>\n",
       "      <th>city</th>\n",
       "      <th>state</th>\n",
       "      <th>zip</th>\n",
       "      <th>lat</th>\n",
       "      <th>lng</th>\n",
       "      <th>geometry</th>\n",
       "      <th>type_generic</th>\n",
       "    </tr>\n",
       "  </thead>\n",
       "  <tbody>\n",
       "    <tr>\n",
       "      <td>1</td>\n",
       "      <td>Brewer</td>\n",
       "      <td>Monroe</td>\n",
       "      <td>Narragansett Brewing Company</td>\n",
       "      <td>Narragansett Brewing Company</td>\n",
       "      <td>445 St Paul St</td>\n",
       "      <td>Rochester</td>\n",
       "      <td>NY</td>\n",
       "      <td>14605</td>\n",
       "      <td>43.164590</td>\n",
       "      <td>-77.614460</td>\n",
       "      <td>POINT (-77.61445999999999 43.16459)</td>\n",
       "      <td>other</td>\n",
       "    </tr>\n",
       "    <tr>\n",
       "      <td>7</td>\n",
       "      <td>Brewer</td>\n",
       "      <td>Monroe</td>\n",
       "      <td>High Falls Operating Co Llc/Licensing Co Llc</td>\n",
       "      <td>High Falls Brewing Co/North American Breweries</td>\n",
       "      <td>445 St Paul St</td>\n",
       "      <td>Rochester</td>\n",
       "      <td>NY</td>\n",
       "      <td>14605</td>\n",
       "      <td>43.164931</td>\n",
       "      <td>-77.614371</td>\n",
       "      <td>POINT (-77.61437097000001 43.16493105000001)</td>\n",
       "      <td>other</td>\n",
       "    </tr>\n",
       "    <tr>\n",
       "      <td>8</td>\n",
       "      <td>Brewer</td>\n",
       "      <td>Monroe</td>\n",
       "      <td>Mark Anthony Brewing Inc</td>\n",
       "      <td>Mikes Hard Lemonade Co</td>\n",
       "      <td>445 St Paul St</td>\n",
       "      <td>Rochester</td>\n",
       "      <td>NY</td>\n",
       "      <td>14605</td>\n",
       "      <td>43.164931</td>\n",
       "      <td>-77.614371</td>\n",
       "      <td>POINT (-77.61437097000001 43.16493105000001)</td>\n",
       "      <td>other</td>\n",
       "    </tr>\n",
       "    <tr>\n",
       "      <td>9</td>\n",
       "      <td>Brewer</td>\n",
       "      <td>Monroe</td>\n",
       "      <td>Lidestri Beverages Llc</td>\n",
       "      <td>Lidestri Spirits</td>\n",
       "      <td>1050 Lee Rd</td>\n",
       "      <td>Rochester</td>\n",
       "      <td>NY</td>\n",
       "      <td>14606</td>\n",
       "      <td>43.187710</td>\n",
       "      <td>-77.679800</td>\n",
       "      <td>POINT (-77.6798 43.18771000000001)</td>\n",
       "      <td>other</td>\n",
       "    </tr>\n",
       "    <tr>\n",
       "      <td>10</td>\n",
       "      <td>Brewer</td>\n",
       "      <td>Ontario</td>\n",
       "      <td>Constellation Brands Inc</td>\n",
       "      <td>Constellation Brands</td>\n",
       "      <td>116 Buffalo St</td>\n",
       "      <td>Canandaigua</td>\n",
       "      <td>NY</td>\n",
       "      <td>14424</td>\n",
       "      <td>42.896416</td>\n",
       "      <td>-77.293768</td>\n",
       "      <td>POINT (-77.29376827999999 42.89641639999999)</td>\n",
       "      <td>other</td>\n",
       "    </tr>\n",
       "    <tr>\n",
       "      <td>...</td>\n",
       "      <td>...</td>\n",
       "      <td>...</td>\n",
       "      <td>...</td>\n",
       "      <td>...</td>\n",
       "      <td>...</td>\n",
       "      <td>...</td>\n",
       "      <td>...</td>\n",
       "      <td>...</td>\n",
       "      <td>...</td>\n",
       "      <td>...</td>\n",
       "      <td>...</td>\n",
       "      <td>...</td>\n",
       "    </tr>\n",
       "    <tr>\n",
       "      <td>1212</td>\n",
       "      <td>Winery</td>\n",
       "      <td>Monroe</td>\n",
       "      <td>High Falls Operating Co Llc</td>\n",
       "      <td>North American Breweries</td>\n",
       "      <td>445 St Paul St</td>\n",
       "      <td>Rochester</td>\n",
       "      <td>NY</td>\n",
       "      <td>14605</td>\n",
       "      <td>43.164931</td>\n",
       "      <td>-77.614371</td>\n",
       "      <td>POINT (-77.61437097000001 43.16493105000001)</td>\n",
       "      <td>winery</td>\n",
       "    </tr>\n",
       "    <tr>\n",
       "      <td>1223</td>\n",
       "      <td>Winery</td>\n",
       "      <td>Schuyler</td>\n",
       "      <td>J R Dill Winery Llc</td>\n",
       "      <td>J R Dill Winery</td>\n",
       "      <td>4922 State Route 414</td>\n",
       "      <td>Burdett</td>\n",
       "      <td>NY</td>\n",
       "      <td>14818</td>\n",
       "      <td>42.471450</td>\n",
       "      <td>-76.867544</td>\n",
       "      <td>POINT (-76.86754395 42.4714497)</td>\n",
       "      <td>winery</td>\n",
       "    </tr>\n",
       "    <tr>\n",
       "      <td>1227</td>\n",
       "      <td>Winery</td>\n",
       "      <td>Seneca</td>\n",
       "      <td>Ventosa Vineyards Llc</td>\n",
       "      <td>Ventosa Vineyards</td>\n",
       "      <td>3440 Route 96A</td>\n",
       "      <td>Geneva</td>\n",
       "      <td>NY</td>\n",
       "      <td>14456</td>\n",
       "      <td>42.859068</td>\n",
       "      <td>-76.936316</td>\n",
       "      <td>POINT (-76.93631553 42.85906812999999)</td>\n",
       "      <td>winery</td>\n",
       "    </tr>\n",
       "    <tr>\n",
       "      <td>1229</td>\n",
       "      <td>Winery</td>\n",
       "      <td>Tompkins</td>\n",
       "      <td>Ports Of New York Llc</td>\n",
       "      <td>Ports Of New York</td>\n",
       "      <td>815 Taber St</td>\n",
       "      <td>Ithaca</td>\n",
       "      <td>NY</td>\n",
       "      <td>14850</td>\n",
       "      <td>42.438458</td>\n",
       "      <td>-76.513509</td>\n",
       "      <td>POINT (-76.51350850000001 42.43845772999999)</td>\n",
       "      <td>winery</td>\n",
       "    </tr>\n",
       "    <tr>\n",
       "      <td>1235</td>\n",
       "      <td>Winery / Farm Winery Retail</td>\n",
       "      <td>Steuben</td>\n",
       "      <td>Doyle Acquisition Corporation</td>\n",
       "      <td>Pleasant Valley Wine Co</td>\n",
       "      <td>8260 Pleasant Valley Rd</td>\n",
       "      <td>Hammondsport</td>\n",
       "      <td>NY</td>\n",
       "      <td>14840</td>\n",
       "      <td>42.402000</td>\n",
       "      <td>-77.251730</td>\n",
       "      <td>POINT (-77.25173009000001 42.40199963000001)</td>\n",
       "      <td>winery</td>\n",
       "    </tr>\n",
       "  </tbody>\n",
       "</table>\n",
       "<p>82 rows × 12 columns</p>\n",
       "</div>"
      ],
      "text/plain": [
       "                             type    county  \\\n",
       "1                          Brewer    Monroe   \n",
       "7                          Brewer    Monroe   \n",
       "8                          Brewer    Monroe   \n",
       "9                          Brewer    Monroe   \n",
       "10                         Brewer   Ontario   \n",
       "...                           ...       ...   \n",
       "1212                       Winery    Monroe   \n",
       "1223                       Winery  Schuyler   \n",
       "1227                       Winery    Seneca   \n",
       "1229                       Winery  Tompkins   \n",
       "1235  Winery / Farm Winery Retail   Steuben   \n",
       "\n",
       "                            official_business_name  \\\n",
       "1                     Narragansett Brewing Company   \n",
       "7     High Falls Operating Co Llc/Licensing Co Llc   \n",
       "8                         Mark Anthony Brewing Inc   \n",
       "9                           Lidestri Beverages Llc   \n",
       "10                        Constellation Brands Inc   \n",
       "...                                            ...   \n",
       "1212                   High Falls Operating Co Llc   \n",
       "1223                           J R Dill Winery Llc   \n",
       "1227                         Ventosa Vineyards Llc   \n",
       "1229                         Ports Of New York Llc   \n",
       "1235                 Doyle Acquisition Corporation   \n",
       "\n",
       "                                                name                  address  \\\n",
       "1                       Narragansett Brewing Company           445 St Paul St   \n",
       "7     High Falls Brewing Co/North American Breweries           445 St Paul St   \n",
       "8                             Mikes Hard Lemonade Co           445 St Paul St   \n",
       "9                                   Lidestri Spirits              1050 Lee Rd   \n",
       "10                             Constellation Brands            116 Buffalo St   \n",
       "...                                              ...                      ...   \n",
       "1212                        North American Breweries           445 St Paul St   \n",
       "1223                                 J R Dill Winery     4922 State Route 414   \n",
       "1227                               Ventosa Vineyards           3440 Route 96A   \n",
       "1229                              Ports Of New York              815 Taber St   \n",
       "1235                         Pleasant Valley Wine Co  8260 Pleasant Valley Rd   \n",
       "\n",
       "              city state    zip        lat        lng  \\\n",
       "1        Rochester    NY  14605  43.164590 -77.614460   \n",
       "7        Rochester    NY  14605  43.164931 -77.614371   \n",
       "8        Rochester    NY  14605  43.164931 -77.614371   \n",
       "9        Rochester    NY  14606  43.187710 -77.679800   \n",
       "10     Canandaigua    NY  14424  42.896416 -77.293768   \n",
       "...            ...   ...    ...        ...        ...   \n",
       "1212     Rochester    NY  14605  43.164931 -77.614371   \n",
       "1223       Burdett    NY  14818  42.471450 -76.867544   \n",
       "1227        Geneva    NY  14456  42.859068 -76.936316   \n",
       "1229        Ithaca    NY  14850  42.438458 -76.513509   \n",
       "1235  Hammondsport    NY  14840  42.402000 -77.251730   \n",
       "\n",
       "                                          geometry type_generic  \n",
       "1              POINT (-77.61445999999999 43.16459)        other  \n",
       "7     POINT (-77.61437097000001 43.16493105000001)        other  \n",
       "8     POINT (-77.61437097000001 43.16493105000001)        other  \n",
       "9               POINT (-77.6798 43.18771000000001)        other  \n",
       "10    POINT (-77.29376827999999 42.89641639999999)        other  \n",
       "...                                            ...          ...  \n",
       "1212  POINT (-77.61437097000001 43.16493105000001)       winery  \n",
       "1223               POINT (-76.86754395 42.4714497)       winery  \n",
       "1227        POINT (-76.93631553 42.85906812999999)       winery  \n",
       "1229  POINT (-76.51350850000001 42.43845772999999)       winery  \n",
       "1235  POINT (-77.25173009000001 42.40199963000001)       winery  \n",
       "\n",
       "[82 rows x 12 columns]"
      ]
     },
     "execution_count": 21,
     "metadata": {},
     "output_type": "execute_result"
    }
   ],
   "source": [
    "# remove buffer column from wine dataframe\n",
    "wine = fl_wine_int.drop('buffer', axis=1)\n",
    "\n",
    "# merge beer and wine geodataframes\n",
    "beer_wine_final = pd.concat([fl_beer_int, wine])\n",
    "\n",
    "# convert back to wgs84\n",
    "beer_wine_final.to_crs(epsg=4326, inplace=True)\n",
    "\n",
    "# export to csv\n",
    "beer_wine_final.to_csv('./data/beer_wine_fingerlakes.csv')\n",
    "\n",
    "# export dataset and county shapefiles to geojson for web mapping\n",
    "beer_wine_final.to_file('./data/beer_wine_fingerlakes.json', driver='GeoJSON')\n",
    "fl_counties_prj.to_file('./data/fingerlakes_counties.json', driver='GeoJSON')\n",
    "\n",
    "# display to check\n",
    "beer_wine_final"
   ]
  },
  {
   "cell_type": "markdown",
   "metadata": {},
   "source": [
    "### Export Counties to JSON<a name=\"export-counties\">\n",
    "\n",
    "Because we are going to import our polygons into a web map, we must convert them back to the WGS84 Web Mercator coordinate reference system before exporting them to JSON."
   ]
  },
  {
   "cell_type": "code",
   "execution_count": 24,
   "metadata": {},
   "outputs": [],
   "source": [
    "# convert back to wgs84 before saving\n",
    "fl_counties_prj.to_crs(epsg=4326, inplace=True)\n",
    "fl_counties_prj.to_file('./data/fingerlakes_counties.json', driver='GeoJSON')"
   ]
  }
 ],
 "metadata": {
  "kernelspec": {
   "display_name": "Python 3",
   "language": "python",
   "name": "python3"
  },
  "language_info": {
   "codemirror_mode": {
    "name": "ipython",
    "version": 3
   },
   "file_extension": ".py",
   "mimetype": "text/x-python",
   "name": "python",
   "nbconvert_exporter": "python",
   "pygments_lexer": "ipython3",
   "version": "3.7.4"
  }
 },
 "nbformat": 4,
 "nbformat_minor": 2
}
